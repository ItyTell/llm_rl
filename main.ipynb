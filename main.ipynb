{
 "cells": [
  {
   "cell_type": "code",
   "execution_count": 2,
   "metadata": {},
   "outputs": [
    {
     "name": "stderr",
     "output_type": "stream",
     "text": [
      "/home/qwas/miniconda3/lib/python3.12/site-packages/tqdm/auto.py:21: TqdmWarning: IProgress not found. Please update jupyter and ipywidgets. See https://ipywidgets.readthedocs.io/en/stable/user_install.html\n",
      "  from .autonotebook import tqdm as notebook_tqdm\n",
      "/home/qwas/miniconda3/lib/python3.12/site-packages/transformers/tokenization_utils_base.py:1617: FutureWarning: `clean_up_tokenization_spaces` was not set. It will be set to `True` by default. This behavior will be deprecated in transformers v4.45, and will be then set to `False` by default. For more details check this issue: https://github.com/huggingface/transformers/issues/31884\n",
      "  warnings.warn(\n"
     ]
    }
   ],
   "source": [
    "from transformers import AutoTokenizer, AutoModelForSeq2SeqLM\n",
    "\n",
    "tokenizer = AutoTokenizer.from_pretrained(\"microsoft/GODEL-v1_1-base-seq2seq\")\n",
    "model = AutoModelForSeq2SeqLM.from_pretrained(\"microsoft/GODEL-v1_1-base-seq2seq\")"
   ]
  },
  {
   "cell_type": "code",
   "execution_count": 23,
   "metadata": {},
   "outputs": [
    {
     "name": "stdout",
     "output_type": "stream",
     "text": [
      "I'm good at it because I'm good at it because I'm good at it.\n"
     ]
    }
   ],
   "source": [
    "# make a dialog\n",
    "english_text = \"why are you so good at this?\"\n",
    "inputs = tokenizer(english_text, return_tensors=\"pt\")\n",
    "outputs = model.generate(**inputs, max_length=40, num_beams=4, early_stopping=True)\n",
    "answer_text = tokenizer.decode(outputs[0], skip_special_tokens=True)\n",
    "print(answer_text)"
   ]
  },
  {
   "cell_type": "code",
   "execution_count": 24,
   "metadata": {},
   "outputs": [],
   "source": [
    "\n",
    "def generate(instruction, knowledge, dialog):\n",
    "    if knowledge != '':\n",
    "        knowledge = '[KNOWLEDGE] ' + knowledge\n",
    "    dialog = ' EOS '.join(dialog)\n",
    "    query = f\"{instruction} [CONTEXT] {dialog} {knowledge}\"\n",
    "    input_ids = tokenizer(f\"{query}\", return_tensors=\"pt\").input_ids\n",
    "    outputs = model.generate(input_ids, max_length=128, min_length=8, top_p=0.9, do_sample=True)\n",
    "    output = tokenizer.decode(outputs[0], skip_special_tokens=True)\n",
    "    return output"
   ]
  },
  {
   "cell_type": "code",
   "execution_count": 32,
   "metadata": {},
   "outputs": [
    {
     "name": "stdout",
     "output_type": "stream",
     "text": [
      "ahahahahah, i ve been sick.\n"
     ]
    }
   ],
   "source": [
    "\n",
    "\n",
    "# Instruction for a chitchat task\n",
    "instruction = f'Instruction: given a dialog context, you need to response empathically.'\n",
    "# Leave the knowldge empty\n",
    "knowledge = ''\n",
    "dialog = [\n",
    "    'Is that t-shirt made of updog?',\n",
    "    \"What's an updog?\",\n",
    "    \"Not much, what's up with you?\"\n",
    "]\n",
    "response = generate(instruction, knowledge, dialog)\n",
    "print(response)"
   ]
  }
 ],
 "metadata": {
  "kernelspec": {
   "display_name": "base",
   "language": "python",
   "name": "python3"
  },
  "language_info": {
   "codemirror_mode": {
    "name": "ipython",
    "version": 3
   },
   "file_extension": ".py",
   "mimetype": "text/x-python",
   "name": "python",
   "nbconvert_exporter": "python",
   "pygments_lexer": "ipython3",
   "version": "3.12.2"
  }
 },
 "nbformat": 4,
 "nbformat_minor": 2
}
